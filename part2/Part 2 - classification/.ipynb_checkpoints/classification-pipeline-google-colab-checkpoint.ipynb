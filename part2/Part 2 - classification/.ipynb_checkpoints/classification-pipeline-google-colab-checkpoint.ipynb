{
 "cells": [
  {
   "cell_type": "code",
   "execution_count": 1,
   "metadata": {
    "colab": {},
    "colab_type": "code",
    "id": "7eI69QA6lYt1"
   },
   "outputs": [
    {
     "ename": "ModuleNotFoundError",
     "evalue": "No module named 'google'",
     "output_type": "error",
     "traceback": [
      "\u001b[0;31m---------------------------------------------------------------------------\u001b[0m",
      "\u001b[0;31mModuleNotFoundError\u001b[0m                       Traceback (most recent call last)",
      "\u001b[0;32m<ipython-input-1-f953043df707>\u001b[0m in \u001b[0;36m<module>\u001b[0;34m()\u001b[0m\n\u001b[1;32m     22\u001b[0m \u001b[0;32mimport\u001b[0m \u001b[0mnumpy\u001b[0m \u001b[0;32mas\u001b[0m \u001b[0mnp\u001b[0m\u001b[0;34m\u001b[0m\u001b[0m\n\u001b[1;32m     23\u001b[0m \u001b[0;32mfrom\u001b[0m \u001b[0msklearn\u001b[0m \u001b[0;32mimport\u001b[0m \u001b[0mmetrics\u001b[0m\u001b[0;34m\u001b[0m\u001b[0m\n\u001b[0;32m---> 24\u001b[0;31m \u001b[0;32mfrom\u001b[0m \u001b[0mgoogle\u001b[0m\u001b[0;34m.\u001b[0m\u001b[0mcolab\u001b[0m \u001b[0;32mimport\u001b[0m \u001b[0mfiles\u001b[0m\u001b[0;34m\u001b[0m\u001b[0m\n\u001b[0m\u001b[1;32m     25\u001b[0m \u001b[0;32mimport\u001b[0m \u001b[0mio\u001b[0m\u001b[0;34m\u001b[0m\u001b[0m\n\u001b[1;32m     26\u001b[0m \u001b[0;32mfrom\u001b[0m \u001b[0mgoogle\u001b[0m\u001b[0;34m.\u001b[0m\u001b[0mcolab\u001b[0m \u001b[0;32mimport\u001b[0m \u001b[0mdrive\u001b[0m\u001b[0;34m\u001b[0m\u001b[0m\n",
      "\u001b[0;31mModuleNotFoundError\u001b[0m: No module named 'google'"
     ]
    }
   ],
   "source": [
    "# Load and import general libraries\n",
    "import numpy\n",
    "# Load and import general libraries\n",
    "import pandas as pd\n",
    "from sklearn import svm\n",
    "from sklearn import tree\n",
    "from sklearn.ensemble import AdaBoostClassifier, GradientBoostingClassifier\n",
    "from sklearn.ensemble import RandomForestClassifier\n",
    "from sklearn.linear_model import LogisticRegression\n",
    "# MSE\n",
    "from sklearn.metrics import accuracy_score\n",
    "from sklearn.metrics import average_precision_score\n",
    "from sklearn.metrics import recall_score\n",
    "from sklearn.model_selection import train_test_split\n",
    "from sklearn.naive_bayes import GaussianNB\n",
    "# Regression\n",
    "from sklearn.metrics import precision_score\n",
    "from sklearn.neural_network import MLPClassifier\n",
    "from sklearn.neighbors import KNeighborsClassifier\n",
    "from sklearn.neural_network import MLPRegressor\n",
    "from sklearn.discriminant_analysis import LinearDiscriminantAnalysis\n",
    "import numpy as np\n",
    "from sklearn import metrics\n",
    "import io\n",
    "import time "
   ]
  },
  {
   "cell_type": "code",
   "execution_count": null,
   "metadata": {
    "colab": {
     "base_uri": "https://localhost:8080/",
     "height": 36
    },
    "colab_type": "code",
    "id": "43gMoWwKmFdP",
    "outputId": "d7601b73-88ec-4154-e997-88812433a7b9"
   },
   "outputs": [],
   "source": [
    "# read in file\n",
    "train_data = pd.read_csv('adultTrain.csv')\n",
    "test_data = pd.read_csv('adultTest.csv')\n",
    "#drive.mount('/content/gdrive')\n",
    "#train_data = pd.read_csv('/content/gdrive/My Drive/Colab Notebooks/adultTrain.csv')\n",
    "#test_data = pd.read_csv('/content/gdrive/My Drive/Colab Notebooks/adultTest.csv')"
   ]
  },
  {
   "cell_type": "code",
   "execution_count": null,
   "metadata": {
    "colab": {},
    "colab_type": "code",
    "id": "7Wc5oVTitvM7"
   },
   "outputs": [],
   "source": []
  },
  {
   "cell_type": "code",
   "execution_count": null,
   "metadata": {
    "colab": {
     "base_uri": "https://localhost:8080/",
     "height": 321
    },
    "colab_type": "code",
    "id": "5UURqeP8mL70",
    "outputId": "bf320bb7-4544-4780-94e7-766d6a55bab0"
   },
   "outputs": [],
   "source": [
    "train_data.columns = [\"Age\", \"workclass\", \"Final_Weight\", \"Education\", \"Highest_Grade\", \"Marital_Status\", \"Occupation\", \"Relationship\", \"Race\", \"Sex\", \"Capital_Gain\", \"Capital_Loss\", \"Hours_per_Week\", \"Native_Country\", \"Income_Class\"]\n",
    "test_data.columns = [\"Age\", \"workclass\", \"Final_Weight\", \"Education\", \"Highest_Grade\", \"Marital_Status\", \"Occupation\", \"Relationship\", \"Race\", \"Sex\", \"Capital_Gain\", \"Capital_Loss\", \"Hours_per_Week\", \"Native_Country\", \"Income_Class\"]\n",
    "\n",
    "# drop the index column\n",
    "print(train_data.head())\n",
    "print(test_data.head())\n"
   ]
  },
  {
   "cell_type": "code",
   "execution_count": null,
   "metadata": {
    "colab": {},
    "colab_type": "code",
    "id": "y7CKmkPZmV_-"
   },
   "outputs": [],
   "source": [
    "# transform work-class to int\n",
    "def trans_work_class(x):\n",
    "    if x == \" Never-worked\":\n",
    "        return 7\n",
    "    elif x == \" Without-pay\":\n",
    "        return 6\n",
    "    elif x == \" State-gov\":\n",
    "        return 5\n",
    "    elif x == \" Local-gov\":\n",
    "        return 4\n",
    "    elif x == \" Federal-gov\":\n",
    "        return 3\n",
    "    elif x == \" Self-emp-inc\":\n",
    "        return 2\n",
    "    elif x == \" Self-emp-not-inc\":\n",
    "        return 1\n",
    "    elif x == \" Private\":\n",
    "        return 0\n",
    "    else:\n",
    "        return \"?\""
   ]
  },
  {
   "cell_type": "code",
   "execution_count": null,
   "metadata": {
    "colab": {},
    "colab_type": "code",
    "id": "pVeRUutamcMd"
   },
   "outputs": [],
   "source": [
    "# transform education to int\n",
    "def trans_education(x):\n",
    "    if x == \" Preschool\":\n",
    "        return 1\n",
    "    elif x == \" 1st-4th\":\n",
    "        return 2\n",
    "    elif x == \" 5th-6th\":\n",
    "        return 3\n",
    "    elif x == \" 7th-8th\":\n",
    "        return 4\n",
    "    elif x == \" 9th\":\n",
    "        return 5\n",
    "    elif x == \" 10th\":\n",
    "        return 6\n",
    "    elif x == \" 11th\":\n",
    "        return 7\n",
    "    elif x == \" 12th\":\n",
    "        return 8\n",
    "    elif x == \" HS-grad\":\n",
    "        return 9\n",
    "    elif x == \" Some-college\":\n",
    "        return 10\n",
    "    elif x == \" Assoc-voc\":\n",
    "        return 11\n",
    "    elif x == \" Assoc-acdm\":\n",
    "        return 12\n",
    "    elif x == \" Bachelors\":\n",
    "        return 13\n",
    "    elif x == \" Masters\":\n",
    "        return 14\n",
    "    elif x == \" Prof-school\":\n",
    "        return 15\n",
    "    elif x == \" Doctorate\":\n",
    "        return 16\n",
    "    else:\n",
    "        return '?'"
   ]
  },
  {
   "cell_type": "code",
   "execution_count": null,
   "metadata": {
    "colab": {},
    "colab_type": "code",
    "id": "F8vKvPbDmiBW"
   },
   "outputs": [],
   "source": [
    "# transform marital_status to int\n",
    "def trans_marital_status(x):\n",
    "    if x == \" Married-AF-spouse\":\n",
    "        return 6\n",
    "    elif x == \" Married-spouse-absent\":\n",
    "        return 5\n",
    "    elif x == \" Widowed\":\n",
    "        return 4\n",
    "    elif x == \" Separate\":\n",
    "        return 3\n",
    "    elif x == \" Never-married\":\n",
    "        return 2\n",
    "    elif x == \" Divorced\":\n",
    "        return 1\n",
    "    elif x == \" Married-civ-spouse\":\n",
    "        return 0\n",
    "    else:\n",
    "        return '?'"
   ]
  },
  {
   "cell_type": "code",
   "execution_count": null,
   "metadata": {
    "colab": {},
    "colab_type": "code",
    "id": "NmzeFC-umot5"
   },
   "outputs": [],
   "source": [
    "# transform occupation to int\n",
    "def trans_occupation(x):\n",
    "    if x == \" Armed-Forces\":\n",
    "        return 13\n",
    "    elif x == \" Protective-serv\":\n",
    "        return 12\n",
    "    elif x == \" Priv-house-serv\":\n",
    "        return 11\n",
    "    elif x == \" Transport-moving\":\n",
    "        return 10\n",
    "    elif x == \" Farming-fishing\":\n",
    "        return 9\n",
    "    elif x == \" Adm-clerical\":\n",
    "        return 8\n",
    "    elif x == \" Machine-op-inspct\":\n",
    "        return 7\n",
    "    elif x == \" Handlers-cleaners\":\n",
    "        return 6\n",
    "    elif x == \" Prof-specialty\":\n",
    "        return 5\n",
    "    elif x == \" Exec-managerial\":\n",
    "        return 4\n",
    "    elif x == \" Sales\":\n",
    "        return 3\n",
    "    elif x == \" Other-service\":\n",
    "        return 2\n",
    "    elif x == \" Craft-repair\":\n",
    "        return 1\n",
    "    elif x == \" Tech-support\":\n",
    "        return 0\n",
    "    else:\n",
    "        return '?'"
   ]
  },
  {
   "cell_type": "code",
   "execution_count": null,
   "metadata": {
    "colab": {},
    "colab_type": "code",
    "id": "_IIuw0V6muBz"
   },
   "outputs": [],
   "source": [
    "# transform relationship to int\n",
    "def trans_relationship(x):\n",
    "    if x == \" Unmarried\":\n",
    "        return 5\n",
    "    elif x == \" Other-relative\":\n",
    "        return 4\n",
    "    elif x == \" Not-in-family\":\n",
    "        return 3\n",
    "    elif x == \" Husband\":\n",
    "        return 2\n",
    "    elif x == \" Own-child\":\n",
    "        return 1\n",
    "    elif x == \" Wife\":\n",
    "        return 0\n",
    "    else:\n",
    "        return '?'"
   ]
  },
  {
   "cell_type": "code",
   "execution_count": null,
   "metadata": {
    "colab": {},
    "colab_type": "code",
    "id": "_BX968kMqW7p"
   },
   "outputs": [],
   "source": [
    "# transform race to int\n",
    "def trans_race(x):\n",
    "    if x == \" Black\":\n",
    "        return 4\n",
    "    elif x == \" Other\":\n",
    "        return 3\n",
    "    elif x == \" Amer-Indian-Eskimo\":\n",
    "        return 2\n",
    "    elif x == \" Asian-Pac-Islander\":\n",
    "        return 1\n",
    "    elif x == \" White\":\n",
    "        return 0\n",
    "    else:\n",
    "        return '?'"
   ]
  },
  {
   "cell_type": "code",
   "execution_count": null,
   "metadata": {
    "colab": {},
    "colab_type": "code",
    "id": "TW_wvijYqjzv"
   },
   "outputs": [],
   "source": [
    "# transform sex to int\n",
    "def trans_sex(x):\n",
    "    if x == \" Female\":\n",
    "        return 1\n",
    "    elif x == \" Male\":\n",
    "        return 0\n",
    "    else:\n",
    "        return \"?\""
   ]
  },
  {
   "cell_type": "code",
   "execution_count": null,
   "metadata": {
    "colab": {},
    "colab_type": "code",
    "id": "85uZyv8Pqx-q"
   },
   "outputs": [],
   "source": [
    "# transform occupation to int\n",
    "def trans_native_country(x):\n",
    "    if x == \" Holand-Netherlands\":\n",
    "        return 40\n",
    "    elif x == \" Hong\":\n",
    "        return 39\n",
    "    elif x == \" Peru\":\n",
    "        return 38\n",
    "    elif x == \" Trinadad&Tobago\":\n",
    "        return 37\n",
    "    elif x == \" El-Salvador\":\n",
    "        return 36\n",
    "    elif x == \" Yugoslavia\":\n",
    "        return 35\n",
    "    elif x == \" Thailand\":\n",
    "        return 34\n",
    "    elif x == \" Scotland\":\n",
    "        return 33\n",
    "    elif x == \" Nicaragua\":\n",
    "        return 32\n",
    "    elif x == \" Guatemala\":\n",
    "        return 31\n",
    "    elif x == \" Hungary\":\n",
    "        return 30\n",
    "    elif x == \" Columbia\":\n",
    "        return 29\n",
    "    elif x == \" Haiti\":\n",
    "        return 28\n",
    "    elif x == \" Taiwan\":\n",
    "        return 27\n",
    "    elif x == \" Ecuador\":\n",
    "        return 26\n",
    "    elif x == \" Laos\":\n",
    "        return 25\n",
    "    elif x == \" Dominican-Republic\":\n",
    "        return 24\n",
    "    elif x == \" France\":\n",
    "        return 23\n",
    "    elif x == \" Ireland\":\n",
    "        return 22\n",
    "    elif x == \" Portugal\":\n",
    "        return 21\n",
    "    elif x == \" Mexico\":\n",
    "        return 20\n",
    "    elif x == \" Vietnam\":\n",
    "        return 19\n",
    "    elif x == \" Jamaica\":\n",
    "        return 18\n",
    "    elif x == \" Poland\":\n",
    "        return 17\n",
    "    elif x == \" Italy\":\n",
    "        return 16\n",
    "    elif x == \" Philippines\":\n",
    "        return 15\n",
    "    elif x == \" Honduras\":\n",
    "        return 14\n",
    "    elif x == \" Iran\":\n",
    "        return 13\n",
    "    elif x == \" Cuba\":\n",
    "        return 12\n",
    "    elif x == \" China\":\n",
    "        return 11\n",
    "    elif x == \" South\":\n",
    "        return 10\n",
    "    elif x == \" Greece\":\n",
    "        return 9\n",
    "    elif x == \" Japan\":\n",
    "        return 8\n",
    "    elif x == \" India\":\n",
    "        return 7\n",
    "    elif x == \" Outlying-US(Guam-USVI-etc)\":\n",
    "        return 6\n",
    "    elif x == \" Germany\":\n",
    "        return 5\n",
    "    elif x == \" Canada\":\n",
    "        return 4\n",
    "    elif x == \" Puerto-Rico\":\n",
    "        return 3\n",
    "    elif x == \" England\":\n",
    "        return 2\n",
    "    elif x == \" Cambodia\":\n",
    "        return 1\n",
    "    elif x == \" United-States\":\n",
    "        return 0\n",
    "    else:\n",
    "        return '?'\n"
   ]
  },
  {
   "cell_type": "code",
   "execution_count": null,
   "metadata": {
    "colab": {},
    "colab_type": "code",
    "id": "w5gnrwpxrFk4"
   },
   "outputs": [],
   "source": [
    "# transform income_class to int\n",
    "def trans_income_class(x):\n",
    "    if x == \" <=50K\":\n",
    "        return 1\n",
    "    elif x == \" >50K\":\n",
    "        return 0\n",
    "    else:\n",
    "        return '?'"
   ]
  },
  {
   "cell_type": "code",
   "execution_count": null,
   "metadata": {
    "colab": {},
    "colab_type": "code",
    "id": "ZOn6cmLErKiI"
   },
   "outputs": [],
   "source": [
    "# transform income_class to int\n",
    "def trans_income_class_test(x):\n",
    "    if x == \" <=50K.\":\n",
    "        return 1\n",
    "    elif x == \" >50K.\":\n",
    "        return 0\n",
    "    else:\n",
    "        return '?'"
   ]
  },
  {
   "cell_type": "code",
   "execution_count": null,
   "metadata": {
    "colab": {},
    "colab_type": "code",
    "id": "h24o_8zFrPMt"
   },
   "outputs": [],
   "source": [
    "# replace current columns with new int versions\n",
    "#train\n",
    "train_data['workclass'] = train_data['workclass'].apply(trans_work_class)\n",
    "train_data['Education'] = train_data['Education'].apply(trans_education)\n",
    "train_data['Marital_Status'] = train_data['Marital_Status'].apply(trans_marital_status)\n",
    "train_data['Occupation'] = train_data['Occupation'].apply(trans_occupation)\n",
    "train_data['Relationship'] = train_data['Relationship'].apply(trans_relationship)\n",
    "train_data['Race'] = train_data['Race'].apply(trans_race)\n",
    "train_data['Sex'] = train_data['Sex'].apply(trans_sex)\n",
    "train_data['Native_Country'] = train_data['Native_Country'].apply(trans_native_country)\n",
    "train_data['Income_Class'] = train_data['Income_Class'].apply(trans_income_class)\n",
    "#test\n",
    "test_data['workclass'] = test_data['workclass'].apply(trans_work_class)\n",
    "test_data['Education'] = test_data['Education'].apply(trans_education)\n",
    "test_data['Marital_Status'] = test_data['Marital_Status'].apply(trans_marital_status)\n",
    "test_data['Occupation'] = test_data['Occupation'].apply(trans_occupation)\n",
    "test_data['Relationship'] = test_data['Relationship'].apply(trans_relationship)\n",
    "test_data['Race'] = test_data['Race'].apply(trans_race)\n",
    "test_data['Sex'] = test_data['Sex'].apply(trans_sex)\n",
    "test_data['Native_Country'] = test_data['Native_Country'].apply(trans_native_country)\n",
    "test_data['Income_Class'] = test_data['Income_Class'].apply(trans_income_class_test)"
   ]
  },
  {
   "cell_type": "code",
   "execution_count": null,
   "metadata": {
    "colab": {},
    "colab_type": "code",
    "id": "vti2LF5YrWII"
   },
   "outputs": [],
   "source": [
    "#final weight and education have low correlations, lets remove them! we cannot check the correlations of columns with missing values untill we have dealt with them\n",
    "train_data=train_data.drop(columns=['Final_Weight', 'Education'])\n",
    "test_data=test_data.drop(columns=['Final_Weight', 'Education'])"
   ]
  },
  {
   "cell_type": "code",
   "execution_count": null,
   "metadata": {
    "colab": {},
    "colab_type": "code",
    "id": "yP9xzjnZreUd"
   },
   "outputs": [],
   "source": [
    "#Firstly we need to understand if these missing values are random or not, analysing the data we can #see that if workclass is missing then so is occupation\n",
    "#These two columns seem to relate to each other in terms of missing values, we can conclude that these missing missing values arent completly random and maybe due to the adult being off the radar\n",
    "#so for both work class and occupation, we want to set the missing values to some new numeric number that currently does not exist in that attribute.\n",
    "train_data[[\"workclass\", \"Occupation\"]] = train_data[[\"workclass\", \"Occupation\"]].replace('?', 99)\n",
    "test_data[[\"workclass\", \"Occupation\"]] = test_data[[\"workclass\", \"Occupation\"]].replace('?', 99)"
   ]
  },
  {
   "cell_type": "code",
   "execution_count": null,
   "metadata": {
    "colab": {},
    "colab_type": "code",
    "id": "L2sCPvp8rnER"
   },
   "outputs": [],
   "source": [
    "#seeing as the remaining missing values on the test set is still larger than 5% we will impute the remaining missing values using the mean of the respective attribute\n",
    "#on the training set!\n",
    "\n",
    "#first change '?' to NaN\n",
    "train_data[[\"Age\", \"workclass\", \"Highest_Grade\", \"Marital_Status\", \"Occupation\", \"Relationship\", \"Race\", \"Sex\", \"Capital_Gain\", \"Capital_Loss\", \"Hours_per_Week\", \"Native_Country\"]] = train_data[[\"Age\", \"workclass\", \"Highest_Grade\", \"Marital_Status\", \"Occupation\", \"Relationship\", \"Race\", \"Sex\", \"Capital_Gain\", \"Capital_Loss\", \"Hours_per_Week\", \"Native_Country\"]].replace('?', numpy.NaN)\n",
    "test_data[[\"Age\", \"workclass\", \"Highest_Grade\", \"Marital_Status\", \"Occupation\", \"Relationship\", \"Race\", \"Sex\", \"Capital_Gain\", \"Capital_Loss\", \"Hours_per_Week\", \"Native_Country\"]] = test_data[[\"Age\", \"workclass\", \"Highest_Grade\", \"Marital_Status\", \"Occupation\", \"Relationship\", \"Race\", \"Sex\", \"Capital_Gain\", \"Capital_Loss\", \"Hours_per_Week\", \"Native_Country\"]].replace('?', numpy.NaN)\n"
   ]
  },
  {
   "cell_type": "code",
   "execution_count": null,
   "metadata": {
    "colab": {},
    "colab_type": "code",
    "id": "lwz1YPYZrqSI"
   },
   "outputs": [],
   "source": [
    "#remember the missing values for the test set have to be imputed by the mean of the training set!!\n",
    "train_data.fillna(train_data.mean(), inplace=True)\n",
    "test_data.fillna(test_data.mean(), inplace=True)\n"
   ]
  },
  {
   "cell_type": "code",
   "execution_count": null,
   "metadata": {
    "colab": {},
    "colab_type": "code",
    "id": "O9J4oWU4rv1v"
   },
   "outputs": [],
   "source": [
    "#Missing values all done!! Now lets just check the correlations again to check the correlations of the attributes we couldnt check before\n",
    "# plt.title(\"Correlation Plot\")\n",
    "# corr = dataTrain.corr()\n",
    "# sns.heatmap(data=corr, square=True, annot=True, cbar=True)\n",
    "# plt.show()\n",
    "\n",
    "#all correlations are above 0.01 so lets go ahead and train/test\n",
    "RSquared_Scores = []\n"
   ]
  },
  {
   "cell_type": "code",
   "execution_count": null,
   "metadata": {
    "colab": {},
    "colab_type": "code",
    "id": "qXREYqw9rx_o"
   },
   "outputs": [],
   "source": [
    "def getXNYVals(data):\n",
    "    X = data.drop([\"Income_Class\"], axis=1)\n",
    "    y = data[\"Income_Class\"]\n",
    "\n",
    "    X_train, X_test, y_train, y_test = train_test_split(X, y, test_size=1, random_state=1)\n",
    "\n",
    "    return X_train, y_train"
   ]
  },
  {
   "cell_type": "code",
   "execution_count": null,
   "metadata": {
    "colab": {},
    "colab_type": "code",
    "id": "xaRIdRfmH6ua"
   },
   "outputs": [],
   "source": [
    "X_trn, y_trn = getXNYVals(train_data)\n",
    "X_tst, y_tst = getXNYVals(test_data)\n",
    "\n",
    "X_train=X_trn\n",
    "y_train=y_trn\n",
    "\n",
    "X_test=X_tst\n",
    "y_test=y_tst"
   ]
  },
  {
   "cell_type": "code",
   "execution_count": null,
   "metadata": {
    "colab": {},
    "colab_type": "code",
    "id": "9Px-4jANr0ay"
   },
   "outputs": [],
   "source": [
    "def eval_model(model_type):\n",
    "    start_time = time.time()\n",
    "    model = model_type\n",
    "    model.fit(X_train, y_train)\n",
    "    y_predict = model.predict(X_test)\n",
    "    auc = metrics.roc_auc_score(y_test, y_predict)\n",
    "    print('----------------------------------------------------------------------------')\n",
    "    print(model_type)\n",
    "    print('----------------------------------------------------------------------------')\n",
    "\n",
    "    accuracy = accuracy_score(y_test, y_predict)\n",
    "    precision = precision_score(y_test, y_predict, average='weighted')\n",
    "    recall = recall_score(y_test, y_predict, average='binary')\n",
    "    f1 = 2 * (precision * recall) / (precision + recall)\n",
    "\n",
    "    print()\n",
    "    print('Accuracy: %0.2f ' % accuracy)\n",
    "    print('Precision score: {0:0.2f}'.format(precision))\n",
    "    print('Average recall score: %0.2f' % recall)\n",
    "    print('F1_score: %0.2f' % f1)\n",
    "    print('AUC: %0.2f' % auc)\n",
    "    print('\\n\\n')\n",
    "    print(\"--- %s seconds ---\" % (time.time() - start_time))"
   ]
  },
  {
   "cell_type": "code",
   "execution_count": null,
   "metadata": {
    "colab": {},
    "colab_type": "code",
    "id": "hhXSE2G_r4nx"
   },
   "outputs": [],
   "source": [
    "# (1) kNN\n",
    "# (2) naiveBayes\n",
    "# (3) SVM\n",
    "# (4) decision tree\n",
    "# (5) random forest\n",
    "# (6) AdaBoost\n",
    "# (7) gradient Boosting\n",
    "# (8) linear discriminant analysis\n",
    "# (9) multi-layer perceptron\n",
    "# (10) logistic regression\n",
    "\n",
    "\n",
    "def main():\n",
    "    eval_model(KNeighborsClassifier())\n",
    "    eval_model(GaussianNB())\n",
    "    eval_model(svm.SVC(gamma='auto'))\n",
    "    eval_model(tree.DecisionTreeClassifier())\n",
    "    eval_model(RandomForestClassifier(n_estimators=100, max_depth=2,random_state=309))\n",
    "    eval_model(AdaBoostClassifier(n_estimators=50, learning_rate=1, random_state=309))\n",
    "    eval_model(GradientBoostingClassifier())\n",
    "    eval_model(LinearDiscriminantAnalysis())\n",
    "    eval_model(MLPClassifier())\n",
    "    eval_model(LogisticRegression())\n"
   ]
  },
  {
   "cell_type": "code",
   "execution_count": null,
   "metadata": {
    "colab": {
     "base_uri": "https://localhost:8080/",
     "height": 1000
    },
    "colab_type": "code",
    "id": "0rfVGI2_r6mW",
    "outputId": "2f4d2222-74f5-47f5-86c0-5e63014f9d3c"
   },
   "outputs": [],
   "source": [
    "main()"
   ]
  }
 ],
 "metadata": {
  "accelerator": "TPU",
  "colab": {
   "collapsed_sections": [],
   "name": "Classification-Pipeline.ipynb",
   "provenance": []
  },
  "kernelspec": {
   "display_name": "Python 3",
   "language": "python",
   "name": "python3"
  },
  "language_info": {
   "codemirror_mode": {
    "name": "ipython",
    "version": 3
   },
   "file_extension": ".py",
   "mimetype": "text/x-python",
   "name": "python",
   "nbconvert_exporter": "python",
   "pygments_lexer": "ipython3",
   "version": "3.6.5"
  }
 },
 "nbformat": 4,
 "nbformat_minor": 1
}
