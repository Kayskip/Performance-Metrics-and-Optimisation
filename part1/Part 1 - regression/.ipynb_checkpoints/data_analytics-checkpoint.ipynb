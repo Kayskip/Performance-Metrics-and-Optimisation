{
 "cells": [
  {
   "cell_type": "code",
   "execution_count": 1,
   "metadata": {},
   "outputs": [],
   "source": [
    "import pandas as pd  \n",
    "import numpy as np  \n",
    "import matplotlib.pyplot as plt  \n",
    "import seaborn as seabornInstance \n",
    "from sklearn.model_selection import train_test_split \n",
    "from sklearn.linear_model import LinearRegression\n",
    "from sklearn import metrics\n",
    "from scipy.io import arff\n",
    "%matplotlib inline"
   ]
  },
  {
   "cell_type": "code",
   "execution_count": 2,
   "metadata": {},
   "outputs": [],
   "source": [
    "dataset = pd.read_csv('diamonds.csv')"
   ]
  },
  {
   "cell_type": "code",
   "execution_count": 3,
   "metadata": {},
   "outputs": [
    {
     "data": {
      "text/plain": [
       "(53940, 11)"
      ]
     },
     "execution_count": 3,
     "metadata": {},
     "output_type": "execute_result"
    }
   ],
   "source": [
    "dataset.shape"
   ]
  },
  {
   "cell_type": "code",
   "execution_count": 4,
   "metadata": {},
   "outputs": [
    {
     "data": {
      "text/plain": [
       "Index(['Unnamed: 0', 'carat', 'cut', 'color', 'clarity', 'depth', 'table', 'x',\n",
       "       'y', 'z', 'price'],\n",
       "      dtype='object')"
      ]
     },
     "execution_count": 4,
     "metadata": {},
     "output_type": "execute_result"
    }
   ],
   "source": [
    "dataset.columns"
   ]
  },
  {
   "cell_type": "code",
   "execution_count": 11,
   "metadata": {},
   "outputs": [
    {
     "name": "stdout",
     "output_type": "stream",
     "text": [
      "       depth  table    x     y    z  price\n",
      "11182   61.6   56.0  0.0  6.62  0.0   4954\n",
      "11963   63.3   53.0  0.0  0.00  0.0   5139\n",
      "15951   57.5   67.0  0.0  0.00  0.0   6381\n",
      "24520   62.2   54.0  0.0  0.00  0.0  12800\n",
      "26243   62.1   59.0  0.0  0.00  0.0  15686\n",
      "27429   62.8   59.0  0.0  0.00  0.0  18034\n",
      "49556   64.1   60.0  0.0  0.00  0.0   2130\n",
      "49557   64.1   60.0  0.0  0.00  0.0   2130\n",
      "       depth  table    x    y    z  price\n",
      "11963   63.3   53.0  0.0  0.0  0.0   5139\n",
      "15951   57.5   67.0  0.0  0.0  0.0   6381\n",
      "24520   62.2   54.0  0.0  0.0  0.0  12800\n",
      "26243   62.1   59.0  0.0  0.0  0.0  15686\n",
      "27429   62.8   59.0  0.0  0.0  0.0  18034\n",
      "49556   64.1   60.0  0.0  0.0  0.0   2130\n",
      "49557   64.1   60.0  0.0  0.0  0.0   2130\n",
      "       depth  table     x     y    z  price\n",
      "2207    59.1   59.0  6.55  6.48  0.0   3142\n",
      "2314    58.1   59.0  6.66  6.60  0.0   3167\n",
      "4791    63.0   59.0  6.50  6.47  0.0   3696\n",
      "5471    59.2   58.0  6.50  6.47  0.0   3837\n",
      "10167   64.0   61.0  7.15  7.04  0.0   4731\n",
      "11182   61.6   56.0  0.00  6.62  0.0   4954\n",
      "11963   63.3   53.0  0.00  0.00  0.0   5139\n",
      "13601   59.2   56.0  6.88  6.83  0.0   5564\n",
      "15951   57.5   67.0  0.00  0.00  0.0   6381\n",
      "24394   59.4   61.0  8.49  8.45  0.0  12631\n",
      "24520   62.2   54.0  0.00  0.00  0.0  12800\n",
      "26123   61.3   58.0  8.52  8.42  0.0  15397\n",
      "26243   62.1   59.0  0.00  0.00  0.0  15686\n",
      "27112   61.2   59.0  8.42  8.37  0.0  17265\n",
      "27429   62.8   59.0  0.00  0.00  0.0  18034\n",
      "27503   62.7   53.0  8.02  7.95  0.0  18207\n",
      "27739   63.8   58.0  8.90  8.85  0.0  18788\n",
      "49556   64.1   60.0  0.00  0.00  0.0   2130\n",
      "49557   64.1   60.0  0.00  0.00  0.0   2130\n",
      "51506   60.4   59.0  6.71  6.67  0.0   2383\n"
     ]
    }
   ],
   "source": [
    "# drop the index column\n",
    "dataset = dataset.drop(dataset.columns[0], axis=1)\n",
    "dataset.isnull().values.any()\n",
    "print((dataset[(dataset[['x']] == 0).all(axis=1)]))\n",
    "print((dataset[(dataset[['y']] == 0).all(axis=1)]))\n",
    "print((dataset[(dataset[['z']] == 0).all(axis=1)]))"
   ]
  },
  {
   "cell_type": "code",
   "execution_count": null,
   "metadata": {},
   "outputs": [],
   "source": [
    "dataset.head()"
   ]
  },
  {
   "cell_type": "code",
   "execution_count": null,
   "metadata": {},
   "outputs": [],
   "source": [
    "for column in dataset.columns:\n",
    "    print(column, \":\", dataset[column].unique(),\"\\n\")"
   ]
  },
  {
   "cell_type": "code",
   "execution_count": null,
   "metadata": {},
   "outputs": [],
   "source": [
    "dataset.describe()"
   ]
  },
  {
   "cell_type": "code",
   "execution_count": null,
   "metadata": {},
   "outputs": [],
   "source": [
    "dataset.y.value_counts()"
   ]
  },
  {
   "cell_type": "code",
   "execution_count": null,
   "metadata": {},
   "outputs": [],
   "source": [
    "dataset.groupby(\"y\").mean()"
   ]
  },
  {
   "cell_type": "code",
   "execution_count": null,
   "metadata": {},
   "outputs": [],
   "source": []
  }
 ],
 "metadata": {
  "kernelspec": {
   "display_name": "Python 3",
   "language": "python",
   "name": "python3"
  },
  "language_info": {
   "codemirror_mode": {
    "name": "ipython",
    "version": 3
   },
   "file_extension": ".py",
   "mimetype": "text/x-python",
   "name": "python",
   "nbconvert_exporter": "python",
   "pygments_lexer": "ipython3",
   "version": "3.6.5"
  }
 },
 "nbformat": 4,
 "nbformat_minor": 2
}
