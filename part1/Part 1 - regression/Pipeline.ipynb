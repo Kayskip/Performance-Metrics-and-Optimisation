{
 "cells": [
  {
   "cell_type": "code",
   "execution_count": 1,
   "metadata": {},
   "outputs": [],
   "source": [
    "# Load and import general libraries\n",
    "\n",
    "import pandas as pd\n",
    "from sklearn import linear_model\n",
    "from sklearn import tree\n",
    "from sklearn.preprocessing import StandardScaler, LabelEncoder\n",
    "from sklearn.model_selection import train_test_split, cross_val_score\n",
    "import seaborn as sns\n",
    "import time\n",
    "sns.set(style=\"white\", color_codes=True)\n",
    "from sklearn.metrics import mean_squared_error, r2_score, mean_absolute_error\n",
    "from sklearn.linear_model import LinearRegression, Ridge\n",
    "from sklearn.ensemble import RandomForestRegressor, GradientBoostingRegressor\n",
    "from sklearn.svm import SVR\n",
    "from sklearn.neighbors import KNeighborsRegressor\n",
    "from sklearn.neural_network import MLPRegressor\n",
    "from sklearn.svm import LinearSVR"
   ]
  },
  {
   "cell_type": "code",
   "execution_count": 2,
   "metadata": {},
   "outputs": [],
   "source": [
    "# read in file\n",
    "data = pd.read_csv('diamonds.csv')\n",
    "\n",
    "# drop the index column\n",
    "data = data.drop(data.columns[0], axis=1)"
   ]
  },
  {
   "cell_type": "code",
   "execution_count": 3,
   "metadata": {},
   "outputs": [],
   "source": [
    "# transform cut to int\n",
    "def trans_cut(x):\n",
    "    if x == \"Fair\": return 4\n",
    "    if x == \"Good\": return 3\n",
    "    if x == \"Very Good\": return 2\n",
    "    if x == \"Ideal\": return 1\n",
    "    if x == \"Premium\": return 0"
   ]
  },
  {
   "cell_type": "code",
   "execution_count": 4,
   "metadata": {},
   "outputs": [],
   "source": [
    "# transform color into int\n",
    "def trans_color(x):\n",
    "    if x == \"D\": return 0\n",
    "    if x == \"E\": return 1\n",
    "    if x == \"F\": return 2\n",
    "    if x == \"G\": return 3\n",
    "    if x == \"H\": return 4\n",
    "    if x == \"I\": return 5\n",
    "    if x == \"J\": return 6"
   ]
  },
  {
   "cell_type": "code",
   "execution_count": 5,
   "metadata": {},
   "outputs": [],
   "source": [
    "# transform clarity to int\n",
    "def trans_clarity(x):\n",
    "    if x == \"I1\": return 7\n",
    "    if x == \"SI1\": return 6\n",
    "    if x == \"SI2\": return 5\n",
    "    if x == \"VS1\": return 4\n",
    "    if x == \"VS2\": return 3\n",
    "    if x == \"VVS1\": return 2\n",
    "    if x == \"VVS2\": return 1\n",
    "    if x == \"IF\": return 0"
   ]
  },
  {
   "cell_type": "code",
   "execution_count": 6,
   "metadata": {},
   "outputs": [],
   "source": [
    "# replace current columns with new int versions\n",
    "data['cut'] = data['cut'].apply(trans_cut)\n",
    "data['color'] = data['color'].apply(trans_color)\n",
    "data['clarity'] = data['clarity'].apply(trans_clarity)"
   ]
  },
  {
   "cell_type": "code",
   "execution_count": 7,
   "metadata": {},
   "outputs": [],
   "source": [
    "# drop missing values\n",
    "data = data[(data[['x', 'y', 'z']] != 0).all(axis=1)]"
   ]
  },
  {
   "cell_type": "code",
   "execution_count": 8,
   "metadata": {},
   "outputs": [],
   "source": [
    "label_cut = LabelEncoder()\n",
    "label_color = LabelEncoder()\n",
    "label_clarity = LabelEncoder()\n",
    "data['cut'] = label_cut.fit_transform(data['cut'])\n",
    "data['color'] = label_color.fit_transform(data['color'])\n",
    "data['clarity'] = label_clarity.fit_transform(data['clarity'])"
   ]
  },
  {
   "cell_type": "code",
   "execution_count": 9,
   "metadata": {},
   "outputs": [],
   "source": [
    "# splitting to train and test\n",
    "X = data.drop(['price'], axis=1)\n",
    "y = data['price']\n",
    "\n",
    "X_train, X_test, y_train, y_test = train_test_split(X, y, test_size=0.3, random_state=309)"
   ]
  },
  {
   "cell_type": "code",
   "execution_count": 10,
   "metadata": {},
   "outputs": [],
   "source": [
    "RSquared_Scores = []"
   ]
  },
  {
   "cell_type": "code",
   "execution_count": 11,
   "metadata": {},
   "outputs": [],
   "source": [
    "def eval_model(model_type):\n",
    "    start_time = time.time()\n",
    "    model = model_type\n",
    "    model.fit(X_train , y_train)\n",
    "    cross_val_results = cross_val_score(estimator = model, X = X_train, y = y_train, cv = 5,verbose = 1)\n",
    "\n",
    "    y_predict = model.predict(X_test)\n",
    "    print('----------------------------------------------------------------------------')\n",
    "    print(model_type)\n",
    "    print('----------------------------------------------------------------------------')\n",
    "    print('Results: %.2f' % model.score(X_test, y_test))\n",
    "    print(cross_val_results)\n",
    "\n",
    "    mse = mean_squared_error(y_test, y_predict)\n",
    "    rmse = mean_squared_error(y_test, y_predict)**0.5\n",
    "    r2 = r2_score(y_test, y_predict)\n",
    "    mae = mean_absolute_error(y_test, y_predict)\n",
    "\n",
    "    print()\n",
    "    print('MSE    : %0.2f ' % mse)\n",
    "    print('RMSE   : %0.2f ' % rmse)\n",
    "    print('R2     : %0.2f ' % r2)\n",
    "    print('MAE    : %0.2f ' % mae)\n",
    "    print(\"--- %s seconds ---\" % (time.time() - start_time))\n",
    "    print('\\n\\n')\n",
    "\n",
    "    RSquared_Scores.append(r2)"
   ]
  },
  {
   "cell_type": "code",
   "execution_count": 12,
   "metadata": {},
   "outputs": [],
   "source": [
    "def ScaledSGDRegression():\n",
    "    start_time = time.time()\n",
    "\n",
    "    scaler = StandardScaler()\n",
    "    scaler.fit(X)\n",
    "    Xs = scaler.transform(X)\n",
    "    X_train, X_test, y_train, y_test = train_test_split(Xs, y, test_size=0.3, random_state=309)\n",
    "    sgd = linear_model.SGDRegressor()\n",
    "    sgd.fit(X_train, y_train)\n",
    "\n",
    "\n",
    "    y_pred=sgd.predict(X_test)\n",
    "    print('Results: %.2f' % sgd.score(X_test, y_test))\n",
    "\n",
    "    mse = mean_squared_error(y_test, y_pred)\n",
    "    mae = mean_absolute_error(y_test, y_pred)\n",
    "    rmse = mean_squared_error(y_test, y_pred)**0.5\n",
    "    r2 = r2_score(y_test, y_pred)\n",
    "\n",
    "    print()\n",
    "    print('MSE    : %0.2f ' % mse)\n",
    "    print('RMSE   : %0.2f ' % rmse)\n",
    "    print('R2     : %0.2f ' % r2)\n",
    "    print('MAE    : %0.2f ' % mae)\n",
    "    print(\"--- %s seconds ---\" % (time.time() - start_time))\n",
    "    print('\\n\\n')"
   ]
  },
  {
   "cell_type": "code",
   "execution_count": 13,
   "metadata": {},
   "outputs": [],
   "source": [
    "def ScaledSVR():\n",
    "    start_time = time.time()\n",
    "\n",
    "\n",
    "    print('###### Support Vector Regression (SVR) #######')\n",
    "    scaler = StandardScaler()\n",
    "    scaler.fit(X)\n",
    "    Xs = scaler.transform(X)\n",
    "    X_train, X_test, y_train, y_test = train_test_split(Xs, y, test_size=0.3, random_state=309)\n",
    "\n",
    "\n",
    "    #Then we fit the regressor to the scaled dataset :\n",
    "\n",
    "    #fitting the SVR to the dataset\n",
    "\n",
    "    regressor = SVR(kernel='rbf',C=100)\n",
    "    regressor.fit(X_train, y_train)\n",
    "    y_pred=regressor.predict(X_test)\n",
    "\n",
    "    print('')\n",
    "    print('Score : %.4f' % regressor.score(X_test, y_test))\n",
    "\n",
    "    mse = mean_squared_error(y_test, y_pred)\n",
    "    mae = mean_absolute_error(y_test, y_pred)\n",
    "    rmse = mean_squared_error(y_test, y_pred)**0.5\n",
    "    r2 = r2_score(y_test, y_pred)\n",
    "\n",
    "    print('')\n",
    "    print('MSE    : %0.2f ' % mse)\n",
    "    print('MAE    : %0.2f ' % mae)\n",
    "    print('RMSE   : %0.2f ' % rmse)\n",
    "    print('R2     : %0.2f ' % r2)\n",
    "    print(\"--- %s seconds ---\" % (time.time() - start_time))\n",
    "    print('\\n\\n')\n"
   ]
  },
  {
   "cell_type": "code",
   "execution_count": 14,
   "metadata": {},
   "outputs": [],
   "source": [
    "def main():\n",
    "    eval_model(LinearRegression())\n",
    "    eval_model(KNeighborsRegressor())\n",
    "    eval_model(Ridge(alpha=1.0))\n",
    "    eval_model(tree.DecisionTreeClassifier())\n",
    "    ScaledSGDRegression()\n",
    "    ScaledSVR()\n",
    "    eval_model(RandomForestRegressor())\n",
    "    eval_model(GradientBoostingRegressor(n_estimators=100, learning_rate=0.1, max_depth=1, random_state=309, loss='ls', verbose=1))\n",
    "    eval_model(LinearSVR(random_state=309, tol=1e-5))\n",
    "    eval_model(MLPRegressor(max_iter=1000))"
   ]
  },
  {
   "cell_type": "code",
   "execution_count": null,
   "metadata": {},
   "outputs": [
    {
     "name": "stderr",
     "output_type": "stream",
     "text": [
      "[Parallel(n_jobs=1)]: Using backend SequentialBackend with 1 concurrent workers.\n",
      "[Parallel(n_jobs=1)]: Done   5 out of   5 | elapsed:    0.1s finished\n"
     ]
    },
    {
     "name": "stdout",
     "output_type": "stream",
     "text": [
      "----------------------------------------------------------------------------\n",
      "LinearRegression(copy_X=True, fit_intercept=True, n_jobs=None, normalize=False)\n",
      "----------------------------------------------------------------------------\n",
      "Results: 0.90\n",
      "[0.89960819 0.88622343 0.89116416 0.88766085 0.88709594]\n",
      "\n",
      "MSE    : 1631602.42 \n",
      "RMSE   : 1277.34 \n",
      "R2     : 0.90 \n",
      "MAE    : 839.32 \n",
      "--- 0.21569132804870605 seconds ---\n",
      "\n",
      "\n",
      "\n"
     ]
    },
    {
     "name": "stderr",
     "output_type": "stream",
     "text": [
      "[Parallel(n_jobs=1)]: Using backend SequentialBackend with 1 concurrent workers.\n",
      "[Parallel(n_jobs=1)]: Done   5 out of   5 | elapsed:    6.4s finished\n"
     ]
    },
    {
     "name": "stdout",
     "output_type": "stream",
     "text": [
      "----------------------------------------------------------------------------\n",
      "KNeighborsRegressor(algorithm='auto', leaf_size=30, metric='minkowski',\n",
      "                    metric_params=None, n_jobs=None, n_neighbors=5, p=2,\n",
      "                    weights='uniform')\n",
      "----------------------------------------------------------------------------\n",
      "Results: 0.95\n",
      "[0.94658    0.9402005  0.94412738 0.94430429 0.94733194]\n",
      "\n",
      "MSE    : 834834.37 \n",
      "RMSE   : 913.69 \n",
      "R2     : 0.95 \n",
      "MAE    : 493.63 \n",
      "--- 11.252387762069702 seconds ---\n",
      "\n",
      "\n",
      "\n",
      "----------------------------------------------------------------------------\n",
      "Ridge(alpha=1.0, copy_X=True, fit_intercept=True, max_iter=None,\n",
      "      normalize=False, random_state=None, solver='auto', tol=0.001)\n",
      "----------------------------------------------------------------------------\n",
      "Results: 0.90\n",
      "[0.89957876 0.88678949 0.89118191 0.88769838 0.88710878]\n",
      "\n",
      "MSE    : 1632206.75 \n",
      "RMSE   : 1277.58 \n",
      "R2     : 0.90 \n",
      "MAE    : 839.73 \n",
      "--- 0.13843178749084473 seconds ---\n",
      "\n",
      "\n",
      "\n"
     ]
    },
    {
     "name": "stderr",
     "output_type": "stream",
     "text": [
      "[Parallel(n_jobs=1)]: Using backend SequentialBackend with 1 concurrent workers.\n",
      "[Parallel(n_jobs=1)]: Done   5 out of   5 | elapsed:    0.1s finished\n",
      "[Parallel(n_jobs=1)]: Using backend SequentialBackend with 1 concurrent workers.\n",
      "/home/karu/anaconda3/lib/python3.6/site-packages/sklearn/model_selection/_split.py:657: Warning: The least populated class in y has only 1 members, which is too few. The minimum number of members in any class cannot be less than n_splits=5.\n",
      "  % (min_groups, self.n_splits)), Warning)\n",
      "[Parallel(n_jobs=1)]: Done   5 out of   5 | elapsed:  4.6min finished\n"
     ]
    },
    {
     "name": "stdout",
     "output_type": "stream",
     "text": [
      "----------------------------------------------------------------------------\n",
      "DecisionTreeClassifier(class_weight=None, criterion='gini', max_depth=None,\n",
      "                       max_features=None, max_leaf_nodes=None,\n",
      "                       min_impurity_decrease=0.0, min_impurity_split=None,\n",
      "                       min_samples_leaf=1, min_samples_split=2,\n",
      "                       min_weight_fraction_leaf=0.0, presort=False,\n",
      "                       random_state=None, splitter='best')\n",
      "----------------------------------------------------------------------------\n",
      "Results: 0.15\n",
      "[0.0927881  0.1314208  0.17173276 0.2021298  0.23699278]\n",
      "\n",
      "MSE    : 1265370.00 \n",
      "RMSE   : 1124.89 \n",
      "R2     : 0.92 \n",
      "MAE    : 512.00 \n",
      "--- 344.23788952827454 seconds ---\n",
      "\n",
      "\n",
      "\n",
      "Results: 0.90\n",
      "\n",
      "MSE    : 1660487.66 \n",
      "RMSE   : 1288.60 \n",
      "R2     : 0.90 \n",
      "MAE    : 839.26 \n",
      "--- 0.6043992042541504 seconds ---\n",
      "\n",
      "\n",
      "\n",
      "###### Support Vector Regression (SVR) #######\n"
     ]
    },
    {
     "name": "stderr",
     "output_type": "stream",
     "text": [
      "/home/karu/anaconda3/lib/python3.6/site-packages/sklearn/svm/base.py:193: FutureWarning: The default value of gamma will change from 'auto' to 'scale' in version 0.22 to account better for unscaled features. Set gamma explicitly to 'auto' or 'scale' to avoid this warning.\n",
      "  \"avoid this warning.\", FutureWarning)\n"
     ]
    }
   ],
   "source": [
    "main()"
   ]
  },
  {
   "cell_type": "code",
   "execution_count": null,
   "metadata": {},
   "outputs": [],
   "source": []
  },
  {
   "cell_type": "code",
   "execution_count": null,
   "metadata": {},
   "outputs": [],
   "source": []
  }
 ],
 "metadata": {
  "kernelspec": {
   "display_name": "Python 3",
   "language": "python",
   "name": "python3"
  },
  "language_info": {
   "codemirror_mode": {
    "name": "ipython",
    "version": 3
   },
   "file_extension": ".py",
   "mimetype": "text/x-python",
   "name": "python",
   "nbconvert_exporter": "python",
   "pygments_lexer": "ipython3",
   "version": "3.6.5"
  }
 },
 "nbformat": 4,
 "nbformat_minor": 2
}
