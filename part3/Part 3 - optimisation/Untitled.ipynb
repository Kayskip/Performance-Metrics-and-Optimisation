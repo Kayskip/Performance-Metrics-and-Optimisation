{
 "cells": [
  {
   "cell_type": "code",
   "execution_count": 1,
   "metadata": {},
   "outputs": [
    {
     "ename": "ModuleNotFoundError",
     "evalue": "No module named 'tensorflow'",
     "output_type": "error",
     "traceback": [
      "\u001b[0;31m---------------------------------------------------------------------------\u001b[0m",
      "\u001b[0;31mModuleNotFoundError\u001b[0m                       Traceback (most recent call last)",
      "\u001b[0;32m<ipython-input-1-9b5943d91ac2>\u001b[0m in \u001b[0;36m<module>\u001b[0;34m()\u001b[0m\n\u001b[1;32m      4\u001b[0m \u001b[0;31m# import matplotlib as plt\u001b[0m\u001b[0;34m\u001b[0m\u001b[0;34m\u001b[0m\u001b[0m\n\u001b[1;32m      5\u001b[0m \u001b[0;32mimport\u001b[0m \u001b[0mrandom\u001b[0m\u001b[0;34m\u001b[0m\u001b[0m\n\u001b[0;32m----> 6\u001b[0;31m \u001b[0;32mimport\u001b[0m \u001b[0mtensorflow\u001b[0m \u001b[0;32mas\u001b[0m \u001b[0mtf\u001b[0m\u001b[0;34m\u001b[0m\u001b[0m\n\u001b[0m\u001b[1;32m      7\u001b[0m \u001b[0;32mfrom\u001b[0m \u001b[0msklearn\u001b[0m\u001b[0;34m.\u001b[0m\u001b[0mmodel_selection\u001b[0m \u001b[0;32mimport\u001b[0m \u001b[0mtrain_test_split\u001b[0m\u001b[0;34m\u001b[0m\u001b[0m\n\u001b[1;32m      8\u001b[0m \u001b[0;32mfrom\u001b[0m \u001b[0msklearn\u001b[0m\u001b[0;34m.\u001b[0m\u001b[0mlinear_model\u001b[0m \u001b[0;32mimport\u001b[0m \u001b[0mLinearRegression\u001b[0m\u001b[0;34m\u001b[0m\u001b[0m\n",
      "\u001b[0;31mModuleNotFoundError\u001b[0m: No module named 'tensorflow'"
     ]
    }
   ],
   "source": [
    "import pandas as pd\n",
    "import numpy as np\n",
    "import matplotlib.pyplot as plt\n",
    "# import matplotlib as plt\n",
    "import random\n",
    "import tensorflow as tf\n",
    "from sklearn.model_selection import train_test_split\n",
    "from sklearn.linear_model import LinearRegression\n",
    "from sklearn import svm\n",
    "from utilities.losses import compute_loss\n",
    "from utilities.visualization import visualize_test\n",
    "from utilities.visualization import visualize_train\n",
    "from utilities.losses import compute_loss\n",
    "from utilities.optimizers import gradient_descent, pso, mini_batch_gradient_descent\n",
    "from sklearn import preprocessing\n",
    "import tensorflow as tf"
   ]
  },
  {
   "cell_type": "code",
   "execution_count": null,
   "metadata": {},
   "outputs": [],
   "source": [
    "# from utilities.optimizers import\n",
    "seed = 309\n",
    "# Freeze the random seed\n",
    "random.seed(seed)\n",
    "np.random.seed(seed)\n",
    "train_test_split_test_size = 0.3  # split the test set and traning set (3:7)\n",
    "# Training settings\n",
    "alpha = 0.1  # step size\n",
    "max_iters = 50  # max iterations"
   ]
  },
  {
   "cell_type": "code",
   "execution_count": 2,
   "metadata": {},
   "outputs": [],
   "source": [
    "def onload():\n",
    "    df = pd.read_csv(\"diamonds.csv\", sep=',')\n",
    "    print(df.shape)\n",
    "    print(df.columns)\n",
    "    print(\"data loaded\")\n",
    "    return df"
   ]
  },
  {
   "cell_type": "code",
   "execution_count": 3,
   "metadata": {},
   "outputs": [],
   "source": [
    "def dataUnderstanding(df):\n",
    "    \"\"\"\n",
    "    :type df: object\n",
    "    \"\"\"\n",
    "    print(\"Data Head\")\n",
    "    print(df.head())\n",
    "    print(\"Data information\")\n",
    "    print(df.info())\n",
    "    print(\"Missing values\")\n",
    "    print(df.isnull().values.any())\n",
    "    print(df.describe())\n",
    "    histplot_data=df.drop('Count',axis=1)\n",
    "    histplot_data.hist(bins=15, figsize=(14, 10))  # hisogram of all the data\n",
    "    plt.show()\n",
    "    print(\"Color distribution\")\n",
    "    print(df.color.value_counts())\n",
    "    print(\"cut Distribution\")\n",
    "    print(df.cut.value_counts())\n",
    "    #print(\"Clarity Distribution\")\n",
    "    #print(df.clarity.values_counts())"
   ]
  },
  {
   "cell_type": "code",
   "execution_count": 4,
   "metadata": {},
   "outputs": [],
   "source": [
    "def data_preprocess(data):\n",
    "    \"\"\"\n",
    "    :rtype: splitted training and test set\n",
    "    \"\"\"\n",
    "    data_copy= data.copy()\n",
    "    x_axis = data[\"carat\"]\n",
    "    y_axis = data[\"price\"]\n",
    "    plt.figure(\"2\")\n",
    "    plt.title(\"Carat Vs Actual Price\")\n",
    "    plt.scatter(x_axis,y_axis)\n",
    "    plt.show()\n",
    "    data_fixing = data[[\"cut\",\"color\",\"clarity\"]]\n",
    "    prepro = preprocessing.LabelEncoder()\n",
    "    #convert all the data into integer\n",
    "    data_fixing[\"cut\"] = prepro.fit_transform(data_fixing[\"cut\"])\n",
    "    data_fixing[\"color\"] = prepro.fit_transform(data_fixing[\"color\"])\n",
    "    data_fixing[\"clarity\"] = prepro.fit_transform(data_fixing[\"clarity\"])\n",
    "    data_copy[\"cut\"] = data_fixing[\"cut\"]\n",
    "    data_copy[\"color\"] = data_fixing[\"color\"]\n",
    "    data_copy[\"clarity\"] = data_fixing[\"clarity\"]\n",
    "    print(\"facorised data\")\n",
    "    print(data_copy.head())\n",
    "    #print(data_copy.color.values_count())\n",
    "    #print(\"check clarity\")\n",
    "    #print(data_copy[\"clarity\"])\n",
    "    #print(data_copy.clarity.values_counts())\n",
    "    \n",
    "    y_train = data[\"price\"]\n",
    "    train_data, test_data = train_test_split(data_copy,test_size=train_test_split_test_size)  # split the data into train and test set\n",
    "    # pre-process data(both train and test)\n",
    "    # remove the class label for data preprocessing and then we will use the full data for training and test\n",
    "    train_data_full = train_data.copy()\n",
    "    train_data = train_data.drop([\"price\"], axis=1)\n",
    "    train_labels = train_data_full[\"price\"]\n",
    "\n",
    "    test_data_full = test_data.copy()\n",
    "    test_data = test_data.drop([\"price\"], axis=1)\n",
    "    test_labels = test_data_full[\"price\"]\n",
    "    train_data['intercept_dummy'] = pd.Series(1.0, index=train_data.index)\n",
    "    test_data['intercept_dummy'] = pd.Series(1.0, index=test_data.index)\n",
    "    return train_data, train_labels, test_data, test_labels, train_data_full, test_data_full"
   ]
  },
  {
   "cell_type": "code",
   "execution_count": null,
   "metadata": {},
   "outputs": [],
   "source": [
    "\n",
    "\n",
    "# def boxplots(data):\n",
    "#    botplot1 = boxplots(data)\n",
    "\n",
    "\n",
    "def learn(y, x, theta, max_iters, alpha, optimizer_type = \"BGD\", metric_type = \"MSE\"):\n",
    "    thetas = None\n",
    "    losses = None\n",
    "    if optimizer_type == \"BGD\":\n",
    "        thetas, losses = gradient_descent(y, x, theta, max_iters, alpha, metric_type)\n",
    "    elif optimizer_type == \"MiniBGD\":\n",
    "        thetas, losses = mini_batch_gradient_descent(y, x, theta, max_iters, alpha, metric_type, mini_batch_size = 10)\n",
    "    elif optimizer_type == \"PSO\":\n",
    "        thetas, losses = pso(y, x, theta, max_iters, 100, metric_type)\n",
    "    else:\n",
    "        raise ValueError(\n",
    "            \"[ERROR] The optimizer '{ot}' is not defined, please double check and re-run your program.\".format(\n",
    "                ot = optimizer_type))\n",
    "    return thetas, losses\n",
    "\n",
    "\n",
    "df = onload()\n",
    "dataUnderstanding(df)\n",
    "data_preprocess(df)"
   ]
  }
 ],
 "metadata": {
  "kernelspec": {
   "display_name": "Python 3",
   "language": "python",
   "name": "python3"
  },
  "language_info": {
   "codemirror_mode": {
    "name": "ipython",
    "version": 3
   },
   "file_extension": ".py",
   "mimetype": "text/x-python",
   "name": "python",
   "nbconvert_exporter": "python",
   "pygments_lexer": "ipython3",
   "version": "3.6.5"
  }
 },
 "nbformat": 4,
 "nbformat_minor": 2
}
